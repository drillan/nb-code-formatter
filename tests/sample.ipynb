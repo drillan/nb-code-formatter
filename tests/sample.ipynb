{
 "cells": [
  {
   "cell_type": "markdown",
   "id": "97403091",
   "metadata": {},
   "source": [
    "# This is a test notebook."
   ]
  },
  {
   "cell_type": "code",
   "execution_count": 1,
   "id": "8da9aa19",
   "metadata": {},
   "outputs": [],
   "source": [
    "spam='ham'*3"
   ]
  },
  {
   "cell_type": "code",
   "execution_count": null,
   "id": "15a7ec89",
   "metadata": {},
   "outputs": [],
   "source": [
    "import isort\n",
    "import datetime\n",
    "import abc"
   ]
  },
  {
   "cell_type": "code",
   "execution_count": 2,
   "id": "4ab49394",
   "metadata": {},
   "outputs": [],
   "source": [
    "def longlonglonglonglonglonglonglonglong_functionname(longlonglonglong_arg1:str=\"abc\", longlonglonglong_arg2:int=1, longlonglonglong_arg3:float=1.1):\n",
    "    return arg1*int(arg2+arg3)"
   ]
  },
  {
   "cell_type": "code",
   "execution_count": null,
   "id": "157242ba",
   "metadata": {},
   "outputs": [],
   "source": []
  }
 ],
 "metadata": {
  "kernelspec": {
   "display_name": "Python 3 (ipykernel)",
   "language": "python",
   "name": "python3"
  },
  "language_info": {
   "codemirror_mode": {
    "name": "ipython",
    "version": 3
   },
   "file_extension": ".py",
   "mimetype": "text/x-python",
   "name": "python",
   "nbconvert_exporter": "python",
   "pygments_lexer": "ipython3",
   "version": "3.10.4"
  }
 },
 "nbformat": 4,
 "nbformat_minor": 5
}
