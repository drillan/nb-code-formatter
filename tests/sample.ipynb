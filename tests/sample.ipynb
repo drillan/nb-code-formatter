{
 "cells": [
  {
   "cell_type": "markdown",
   "id": "97403091",
   "metadata": {},
   "source": [
    "# This is a test notebook."
   ]
  },
  {
   "cell_type": "code",
   "execution_count": 1,
   "id": "8da9aa19",
   "metadata": {},
   "outputs": [],
   "source": [
    "spam='ham'*3"
   ]
  },
  {
   "cell_type": "code",
   "execution_count": null,
   "id": "15a7ec89",
   "metadata": {},
   "outputs": [],
   "source": [
    "import isort\n",
    "import datetime\n",
    "import abc"
   ]
  },
  {
   "cell_type": "code",
   "execution_count": null,
   "id": "d989742c",
   "metadata": {},
   "outputs": [],
   "source": [
    "import isort\n",
    "import datetime\n",
    "import abc\n",
    "\n",
    "1+1"
   ]
  },
  {
   "cell_type": "code",
   "execution_count": 2,
   "id": "4ab49394",
   "metadata": {},
   "outputs": [],
   "source": [
    "def longlonglonglonglonglonglonglonglong_functionname(longlonglonglong_arg1:str=\"abc\", longlonglonglong_arg2:int=1, longlonglonglong_arg3:float=1.1):\n",
    "    return arg1*int(arg2+arg3)"
   ]
  },
  {
   "cell_type": "code",
   "execution_count": 2,
   "id": "5056aaac",
   "metadata": {},
   "outputs": [
    {
     "name": "stdout",
     "output_type": "stream",
     "text": [
      "CPU times: user 2 µs, sys: 1 µs, total: 3 µs\n",
      "Wall time: 4.05 µs\n"
     ]
    },
    {
     "data": {
      "text/plain": [
       "10000000000"
      ]
     },
     "execution_count": 2,
     "metadata": {},
     "output_type": "execute_result"
    }
   ],
   "source": [
    "%time 10**10"
   ]
  },
  {
   "cell_type": "code",
   "execution_count": 1,
   "id": "157242ba",
   "metadata": {},
   "outputs": [
    {
     "name": "stdout",
     "output_type": "stream",
     "text": [
      "CPU times: user 2 µs, sys: 0 ns, total: 2 µs\n",
      "Wall time: 5.48 µs\n"
     ]
    }
   ],
   "source": [
    "%%time\n",
    "a=1"
   ]
  },
  {
   "cell_type": "code",
   "execution_count": null,
   "id": "6fb1c904",
   "metadata": {},
   "outputs": [],
   "source": []
  }
 ],
 "metadata": {
  "kernelspec": {
   "display_name": "Python 3",
   "language": "python",
   "name": "python3"
  },
  "language_info": {
   "codemirror_mode": {
    "name": "ipython",
    "version": 3
   },
   "file_extension": ".py",
   "mimetype": "text/x-python",
   "name": "python",
   "nbconvert_exporter": "python",
   "pygments_lexer": "ipython3",
   "version": "3.10.8 (main, Nov  1 2022, 14:18:21) [GCC 12.2.0]"
  },
  "vscode": {
   "interpreter": {
    "hash": "e7370f93d1d0cde622a1f8e1c04877d8463912d04d973331ad4851f04de6915a"
   }
  }
 },
 "nbformat": 4,
 "nbformat_minor": 5
}
